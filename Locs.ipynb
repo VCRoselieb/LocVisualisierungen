{
 "cells": [
  {
   "cell_type": "markdown",
   "metadata": {},
   "source": [
    "Visualisation of loc data"
   ]
  },
  {
   "cell_type": "code",
   "execution_count": 2,
   "metadata": {},
   "outputs": [],
   "source": [
    "# import libraries\n",
    "import os\n",
    "import numpy as np\n",
    "import pandas as pd\n",
    "import matplotlib.pyplot as plt\n",
    "import seaborn as sns\n",
    "sns.set()\n"
   ]
  },
  {
   "cell_type": "code",
   "execution_count": 10,
   "metadata": {},
   "outputs": [
    {
     "data": {
      "text/html": [
       "<div>\n",
       "<style scoped>\n",
       "    .dataframe tbody tr th:only-of-type {\n",
       "        vertical-align: middle;\n",
       "    }\n",
       "\n",
       "    .dataframe tbody tr th {\n",
       "        vertical-align: top;\n",
       "    }\n",
       "\n",
       "    .dataframe thead th {\n",
       "        text-align: right;\n",
       "    }\n",
       "</style>\n",
       "<table border=\"1\" class=\"dataframe\">\n",
       "  <thead>\n",
       "    <tr style=\"text-align: right;\">\n",
       "      <th></th>\n",
       "    </tr>\n",
       "    <tr>\n",
       "      <th>;eval-saturation_classifier-2;eval-saturation_classifier-6;eval-saturation_features-0;eval-saturation_features-11;eval-saturation_features-15;eval-saturation_features-18;eval-saturation_features-22;eval-saturation_features-25;eval-saturation_features-4;eval-saturation_features-8;test_accuracy;test_loss;train-saturation_classifier-2;train-saturation_classifier-6;train-saturation_features-0;train-saturation_features-11;train-saturation_features-15;train-saturation_features-18;train-saturation_features-22;train-saturation_features-25;train-saturation_features-4;train-saturation_features-8;training_accuracy;training_loss</th>\n",
       "    </tr>\n",
       "  </thead>\n",
       "  <tbody>\n",
       "    <tr>\n",
       "      <th>0;6.25;60.0;6.25;12.7;8.98;23.83;39.84;32.81;7.81;5.56;0.5495;0.15755887714028358;58.59;60.0;50.0;46.83;34.77;50.78;63.28;62.5;40.62;33.33;0.39468;0.20737799023866654</th>\n",
       "    </tr>\n",
       "    <tr>\n",
       "      <th>1;11.72;60.0;12.5;18.25;13.28;28.91;43.36;37.5;12.5;9.52;0.6603;0.12125345305502415;54.69;60.0;59.38;46.83;37.89;51.95;62.11;60.16;40.62;34.92;0.53504;0.16581893460512162</th>\n",
       "    </tr>\n",
       "    <tr>\n",
       "      <th>2;15.62;70.0;15.62;21.43;16.02;30.86;44.53;39.45;14.06;11.11;0.6875;0.11401505977809429;53.91;70.0;62.5;46.03;39.84;53.12;60.55;58.98;40.62;34.13;0.60126;0.1449029310554266</th>\n",
       "    </tr>\n",
       "    <tr>\n",
       "      <th>3;18.75;70.0;18.75;23.02;17.97;33.59;45.31;41.02;17.19;11.9;0.7403;0.09688546747863293;53.12;70.0;65.62;44.44;41.8;54.3;59.38;58.2;40.62;33.33;0.6453;0.13003865413784982</th>\n",
       "    </tr>\n",
       "    <tr>\n",
       "      <th>4;21.88;70.0;21.88;23.81;19.53;35.16;45.31;42.19;18.75;12.7;0.7534;0.09194008106738329;52.34;70.0;65.62;42.86;43.36;55.08;58.59;57.42;40.62;33.33;0.676;0.1199679130578041</th>\n",
       "    </tr>\n",
       "  </tbody>\n",
       "</table>\n",
       "</div>"
      ],
      "text/plain": [
       "Empty DataFrame\n",
       "Columns: []\n",
       "Index: [0;6.25;60.0;6.25;12.7;8.98;23.83;39.84;32.81;7.81;5.56;0.5495;0.15755887714028358;58.59;60.0;50.0;46.83;34.77;50.78;63.28;62.5;40.62;33.33;0.39468;0.20737799023866654, 1;11.72;60.0;12.5;18.25;13.28;28.91;43.36;37.5;12.5;9.52;0.6603;0.12125345305502415;54.69;60.0;59.38;46.83;37.89;51.95;62.11;60.16;40.62;34.92;0.53504;0.16581893460512162, 2;15.62;70.0;15.62;21.43;16.02;30.86;44.53;39.45;14.06;11.11;0.6875;0.11401505977809429;53.91;70.0;62.5;46.03;39.84;53.12;60.55;58.98;40.62;34.13;0.60126;0.1449029310554266, 3;18.75;70.0;18.75;23.02;17.97;33.59;45.31;41.02;17.19;11.9;0.7403;0.09688546747863293;53.12;70.0;65.62;44.44;41.8;54.3;59.38;58.2;40.62;33.33;0.6453;0.13003865413784982, 4;21.88;70.0;21.88;23.81;19.53;35.16;45.31;42.19;18.75;12.7;0.7534;0.09194008106738329;52.34;70.0;65.62;42.86;43.36;55.08;58.59;57.42;40.62;33.33;0.676;0.1199679130578041]"
      ]
     },
     "execution_count": 10,
     "metadata": {},
     "output_type": "execute_result"
    }
   ],
   "source": [
    "#Import csv\n",
    "import glob\n",
    "import os\n",
    "PATH = os.getcwd()\n",
    "AllData = pd.read_csv(PATH + '\\Cifar10\\VGG11_S_bs8_e20_id0.csv', index_col=0)\n",
    "\n",
    "AllData.head()"
   ]
  },
  {
   "cell_type": "code",
   "execution_count": null,
   "metadata": {},
   "outputs": [],
   "source": []
  },
  {
   "cell_type": "code",
   "execution_count": null,
   "metadata": {},
   "outputs": [],
   "source": []
  }
 ],
 "metadata": {
  "kernelspec": {
   "display_name": "Python 3",
   "language": "python",
   "name": "python3"
  },
  "language_info": {
   "codemirror_mode": {
    "name": "ipython",
    "version": 3
   },
   "file_extension": ".py",
   "mimetype": "text/x-python",
   "name": "python",
   "nbconvert_exporter": "python",
   "pygments_lexer": "ipython3",
   "version": "3.7.3"
  }
 },
 "nbformat": 4,
 "nbformat_minor": 2
}
