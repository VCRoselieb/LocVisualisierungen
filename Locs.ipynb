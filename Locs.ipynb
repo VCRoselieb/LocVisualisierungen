{
 "cells": [
  {
   "cell_type": "markdown",
   "metadata": {},
   "source": [
    "Visualisation of loc data"
   ]
  },
  {
   "cell_type": "code",
   "execution_count": 1,
   "metadata": {},
   "outputs": [],
   "source": [
    "# import libraries\n",
    "import os\n",
    "import numpy as np\n",
    "import pandas as pd\n",
    "import matplotlib.pyplot as plt\n",
    "import seaborn as sns\n",
    "sns.set()\n"
   ]
  },
  {
   "cell_type": "code",
   "execution_count": 4,
   "metadata": {},
   "outputs": [
    {
     "name": "stdout",
     "output_type": "stream",
     "text": [
      "['VGG13_bs128_e20_id0.csv', 'VGG13_bs128_e20_idADAM.csv', 'VGG13_bs128_e20_idLRS.csv', 'VGG13_bs128_e20_idRADAM.csv', 'VGG13_bs32_e20_id0.csv', 'VGG13_bs32_e20_idADAM.csv', 'VGG13_bs32_e20_idLRS.csv', 'VGG13_bs32_e20_idRADAM.csv', 'VGG13_bs512_e20_id0.csv', 'VGG13_bs512_e20_idADAM.csv', 'VGG13_bs512_e20_idLRS.csv', 'VGG13_bs512_e20_idRADAM.csv', 'VGG13_bs8_e20_id0.csv', 'VGG13_bs8_e20_idADAM.csv', 'VGG13_bs8_e20_idLRS.csv', 'VGG13_bs8_e20_idRADAM.csv']\n",
      "  Batchsize  Training      Test\n",
      "0         8  0.787399  0.818314\n",
      "1        32  0.825093  0.832036\n",
      "2       128  0.802505  0.792480\n",
      "3       512  0.733502  0.721819\n"
     ]
    },
    {
     "name": "stderr",
     "output_type": "stream",
     "text": [
      "C:\\Users\\vivia\\Anaconda3\\lib\\site-packages\\ipykernel_launcher.py:19: FutureWarning: Sorting because non-concatenation axis is not aligned. A future version\n",
      "of pandas will change to not sort by default.\n",
      "\n",
      "To accept the future behavior, pass 'sort=False'.\n",
      "\n",
      "To retain the current behavior and silence the warning, pass 'sort=True'.\n",
      "\n",
      "C:\\Users\\vivia\\Anaconda3\\lib\\site-packages\\ipykernel_launcher.py:29: FutureWarning: Sorting because non-concatenation axis is not aligned. A future version\n",
      "of pandas will change to not sort by default.\n",
      "\n",
      "To accept the future behavior, pass 'sort=False'.\n",
      "\n",
      "To retain the current behavior and silence the warning, pass 'sort=True'.\n",
      "\n",
      "C:\\Users\\vivia\\Anaconda3\\lib\\site-packages\\ipykernel_launcher.py:34: FutureWarning: Sorting because non-concatenation axis is not aligned. A future version\n",
      "of pandas will change to not sort by default.\n",
      "\n",
      "To accept the future behavior, pass 'sort=False'.\n",
      "\n",
      "To retain the current behavior and silence the warning, pass 'sort=True'.\n",
      "\n",
      "C:\\Users\\vivia\\Anaconda3\\lib\\site-packages\\ipykernel_launcher.py:24: FutureWarning: Sorting because non-concatenation axis is not aligned. A future version\n",
      "of pandas will change to not sort by default.\n",
      "\n",
      "To accept the future behavior, pass 'sort=False'.\n",
      "\n",
      "To retain the current behavior and silence the warning, pass 'sort=True'.\n",
      "\n"
     ]
    }
   ],
   "source": [
    "import glob\n",
    "import os\n",
    "PATH = os.getcwd()+ \"/logs/VGG13/Cifar10\"\n",
    "columns = ['test_accuracy','training_accuracy']\n",
    "accuracy = pd.DataFrame(columns=['Batchsize', 'Training', 'Test'])\n",
    "\n",
    "inhalt  = os.listdir(PATH)\n",
    "print(inhalt)\n",
    "\n",
    "bs128 =  []\n",
    "bs8 = []\n",
    "bs32 = []\n",
    "bs512 = []\n",
    "\n",
    "for file in inhalt:\n",
    "    name = str(file)\n",
    "    if ('bs128' in name):\n",
    "        bs128.append(pd.read_csv(PATH + '/' + name ,sep= ';',usecols=columns))\n",
    "        df_concatenated128 = pd.concat(bs128, ignore_index=True)\n",
    "        \n",
    "    if ('bs8' in name):\n",
    "    \n",
    "        bs8.append(pd.read_csv(PATH + '/' + name ,sep= ';',usecols=columns))\n",
    "        df_concatenated8 = pd.concat(bs8, ignore_index=True)\n",
    "        \n",
    "    if ('bs32' in name):\n",
    "        \n",
    "        bs32.append(pd.read_csv(PATH + '/' + name ,sep= ';',usecols=columns))\n",
    "        df_concatenated32 = pd.concat(bs32, ignore_index=True)\n",
    "        \n",
    "    if ('bs512' in name):\n",
    "        \n",
    "        bs512.append(pd.read_csv(PATH + '/' + name ,sep= ';',usecols=columns))\n",
    "        df_concatenated512 = pd.concat(bs512, ignore_index=True)\n",
    "        \n",
    "    \n",
    "        \n",
    "        \n",
    "        \n",
    "add8 = pd.DataFrame([[8,df_concatenated8['training_accuracy'].mean(),df_concatenated8['test_accuracy'].mean()]], columns=['Batchsize', 'Training', 'Test'])\n",
    "accuracy =accuracy.append(add8, ignore_index=True)\n",
    "add32 = pd.DataFrame([[32,df_concatenated32['training_accuracy'].mean(),df_concatenated32['test_accuracy'].mean()]], columns=['Batchsize', 'Training', 'Test'])\n",
    "accuracy =accuracy.append(add32, ignore_index=True)\n",
    "add128 = pd.DataFrame([[128,df_concatenated128['training_accuracy'].mean(),df_concatenated128['test_accuracy'].mean()]], columns=['Batchsize', 'Training', 'Test'])\n",
    "accuracy =accuracy.append(add128, ignore_index=True)\n",
    "add512 = pd.DataFrame([[512,df_concatenated512['training_accuracy'].mean(),df_concatenated512['test_accuracy'].mean()]], columns=['Batchsize', 'Training', 'Test'])\n",
    "accuracy =accuracy.append(add512, ignore_index=True)\n",
    "    \n",
    "print(accuracy)\n"
   ]
  },
  {
   "cell_type": "code",
   "execution_count": 3,
   "metadata": {},
   "outputs": [
    {
     "data": {
      "image/png": "[encoded data removed]",
      "text/plain": [
       "<Figure size 432x288 with 1 Axes>"
      ]
     },
     "metadata": {
      "needs_background": "light"
     },
     "output_type": "display_data"
    }
   ],
   "source": [
    "#Plot accuracy\n",
    "\n",
    "# create two axes\n",
    "fig = plt.figure()\n",
    "\n",
    "\n",
    "# first subplot with boxplot\n",
    "ax = sns.pointplot(x=\"Batchsize\", y=\"Training\", data=accuracy)\n",
    " \n",
    "\n",
    "# second subplot with violinplot\n",
    "ax2= sns.pointplot(x=\"Batchsize\", y=\"Test\", data=accuracy, color= 'red')#\n",
    "#handling legends\n",
    "ax.set(xlabel='Batch Size', ylabel='Accuracy')\n",
    "\n",
    "fig.tight_layout()"
   ]
  },
  {
   "cell_type": "code",
   "execution_count": null,
   "metadata": {},
   "outputs": [],
   "source": []
  },
  {
   "cell_type": "code",
   "execution_count": null,
   "metadata": {},
   "outputs": [],
   "source": []
  }
 ],
 "metadata": {
  "kernelspec": {
   "display_name": "Python 3",
   "language": "python",
   "name": "python3"
  },
  "language_info": {
   "codemirror_mode": {
    "name": "ipython",
    "version": 3
   },
   "file_extension": ".py",
   "mimetype": "text/x-python",
   "name": "python",
   "nbconvert_exporter": "python",
   "pygments_lexer": "ipython3",
   "version": "3.7.3"
  }
 },
 "nbformat": 4,
 "nbformat_minor": 2
}
