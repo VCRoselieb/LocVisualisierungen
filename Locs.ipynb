{
 "cells": [
  {
   "cell_type": "markdown",
   "metadata": {},
   "source": [
    "Visualisation of loc data"
   ]
  },
  {
   "cell_type": "code",
   "execution_count": 1,
   "metadata": {},
   "outputs": [],
   "source": [
    "# import libraries\n",
    "import os\n",
    "import numpy as np\n",
    "import pandas as pd\n",
    "import matplotlib.pyplot as plt\n",
    "import seaborn as sns\n",
    "sns.set()\n"
   ]
  },
  {
   "cell_type": "code",
   "execution_count": 4,
   "metadata": {},
   "outputs": [
    {
     "name": "stdout",
     "output_type": "stream",
     "text": [
      "['VGG13_bs128_e20_id0.csv', 'VGG13_bs128_e20_idADAM.csv', 'VGG13_bs128_e20_idLRS.csv', 'VGG13_bs128_e20_idRADAM.csv', 'VGG13_bs32_e20_id0.csv', 'VGG13_bs32_e20_idADAM.csv', 'VGG13_bs32_e20_idLRS.csv', 'VGG13_bs32_e20_idRADAM.csv', 'VGG13_bs512_e20_id0.csv', 'VGG13_bs512_e20_idADAM.csv', 'VGG13_bs512_e20_idLRS.csv', 'VGG13_bs512_e20_idRADAM.csv', 'VGG13_bs8_e20_id0.csv', 'VGG13_bs8_e20_idADAM.csv', 'VGG13_bs8_e20_idLRS.csv', 'VGG13_bs8_e20_idRADAM.csv']\n",
      "  Batchsize  Training      Test\n",
      "0         8  0.787399  0.818314\n",
      "1        32  0.825093  0.832036\n",
      "2       128  0.802505  0.792480\n",
      "3       512  0.733502  0.721819\n"
     ]
    },
    {
     "name": "stderr",
     "output_type": "stream",
     "text": [
      "C:\\Users\\vivia\\Anaconda3\\lib\\site-packages\\ipykernel_launcher.py:19: FutureWarning: Sorting because non-concatenation axis is not aligned. A future version\n",
      "of pandas will change to not sort by default.\n",
      "\n",
      "To accept the future behavior, pass 'sort=False'.\n",
      "\n",
      "To retain the current behavior and silence the warning, pass 'sort=True'.\n",
      "\n",
      "C:\\Users\\vivia\\Anaconda3\\lib\\site-packages\\ipykernel_launcher.py:29: FutureWarning: Sorting because non-concatenation axis is not aligned. A future version\n",
      "of pandas will change to not sort by default.\n",
      "\n",
      "To accept the future behavior, pass 'sort=False'.\n",
      "\n",
      "To retain the current behavior and silence the warning, pass 'sort=True'.\n",
      "\n",
      "C:\\Users\\vivia\\Anaconda3\\lib\\site-packages\\ipykernel_launcher.py:34: FutureWarning: Sorting because non-concatenation axis is not aligned. A future version\n",
      "of pandas will change to not sort by default.\n",
      "\n",
      "To accept the future behavior, pass 'sort=False'.\n",
      "\n",
      "To retain the current behavior and silence the warning, pass 'sort=True'.\n",
      "\n",
      "C:\\Users\\vivia\\Anaconda3\\lib\\site-packages\\ipykernel_launcher.py:24: FutureWarning: Sorting because non-concatenation axis is not aligned. A future version\n",
      "of pandas will change to not sort by default.\n",
      "\n",
      "To accept the future behavior, pass 'sort=False'.\n",
      "\n",
      "To retain the current behavior and silence the warning, pass 'sort=True'.\n",
      "\n"
     ]
    }
   ],
   "source": [
    "#Import csv\n",
    "import glob\n",
    "import os\n",
    "PATH = os.getcwd()+ \"/logs/VGG11/Cifar10\"\n",
    "print (PATH)\n",
    "all_files = glob.glob(os.path.join(PATH, \"*.csv\"))    \n",
    "\n",
    "accuracy = pd.DataFrame(columns=['Batchsize', 'Training', 'Test'])\n",
    "\n",
    "\n",
    "dflist = []\n",
    "for f in all_files:\n",
    "    dflist.append(pd.read_csv(f))\n",
    "df_concatenated = pd.concat(dflist, ignore_index=True)\n",
    "df_concatenated.head()\n",
    "\n",
    "listi= []\n",
    "columns = ['test_accuracy','training_accuracy']\n",
    "# listi = pd.read_csv(PATH + \"/VGG11_bs8_e20_id0.csv\", sep= ';',usecols=columns) #, \n",
    "# listi\n",
    "# listi2= []\n",
    "# columns = ['test_accuracy','training_accuracy']\n",
    "# listi2 = pd.read_csv(PATH + \"/VGG11_bs8_e20_idADAM.csv\", sep= ';',usecols=columns) #, \n",
    "# listi2\n",
    "\n",
    "# dflist = []\n",
    "\n",
    "# dflist.append(listi)\n",
    "# dflist.append(listi2)\n",
    "# df_concatenated = pd.concat(dflist, ignore_index=True)\n",
    "# df_concatenated\n",
    "\n",
    "\n",
    "all_bs8 = glob.glob(os.path.join(PATH + \"/bs8\", \"*.csv\")) \n",
    "bs8 = []\n",
    "for f in all_bs8:\n",
    "    bs8.append(pd.read_csv(f,sep= ';',usecols=columns))\n",
    "    \n",
    "df_concatenated = pd.concat(bs8, ignore_index=True)\n",
    "\n",
    "\n",
    "add = pd.DataFrame([[8,df_concatenated['training_accuracy'].mean(),df_concatenated['test_accuracy'].mean()]], columns=['Batchsize', 'Training', 'Test'])\n",
    "accuracy =accuracy.append(add, ignore_index=True)\n",
    "\n",
    "\n",
    "#######32 code doppelungen sollte gelöscht werden\n",
    "\n",
    "all_bs32 = glob.glob(os.path.join(PATH + \"/bs32\", \"*.csv\")) \n",
    "bs32 = []\n",
    "for f in all_bs32:\n",
    "    bs32.append(pd.read_csv(f,sep= ';',usecols=columns))\n",
    "df_concatenated32 = pd.concat(bs32, ignore_index=True)\n",
    "add32 = pd.DataFrame([[32,df_concatenated32['training_accuracy'].mean(),df_concatenated32['test_accuracy'].mean()]], columns=['Batchsize', 'Training', 'Test'])\n",
    "accuracy =accuracy.append(add32, ignore_index=True)\n",
    "\n",
    "\n",
    "#####128\n",
    "all_bs128 = glob.glob(os.path.join(PATH + \"/bs128\", \"*.csv\")) \n",
    "bs128 = []\n",
    "for f in all_bs128:\n",
    "    bs128.append(pd.read_csv(f,sep= ';',usecols=columns))\n",
    "df_concatenated128 = pd.concat(bs128, ignore_index=True)\n",
    "add128 = pd.DataFrame([[128,df_concatenated128['training_accuracy'].mean(),df_concatenated128['test_accuracy'].mean()]], columns=['Batchsize', 'Training', 'Test'])\n",
    "accuracy =accuracy.append(add128, ignore_index=True)\n",
    "\n",
    "####512\n",
    "all_bs512 = glob.glob(os.path.join(PATH + \"/bs512\", \"*.csv\")) \n",
    "bs512 = []\n",
    "for f in all_bs512:\n",
    "    bs512.append(pd.read_csv(f,sep= ';',usecols=columns))\n",
    "df_concatenated512 = pd.concat(bs512, ignore_index=True)\n",
    "add512 = pd.DataFrame([[512,df_concatenated512['training_accuracy'].mean(),df_concatenated512['test_accuracy'].mean()]], columns=['Batchsize', 'Training', 'Test'])\n",
    "accuracy =accuracy.append(add512, ignore_index=True)\n",
    "\n",
    "print(accuracy)"
   ]
  },
  {
   "cell_type": "code",
   "execution_count": 5,
   "metadata": {},
   "outputs": [
    {
     "data": {
      "image/png": "[encoded data removed]",
      "text/plain": [
       "<Figure size 432x288 with 1 Axes>"
      ]
     },
     "metadata": {
      "needs_background": "light"
     },
     "output_type": "display_data"
    }
   ],
   "source": [
    "#Plot accuracy\n",
    "\n",
    "# create two axes\n",
    "fig = plt.figure()\n",
    "\n",
    "\n",
    "# first subplot with boxplot\n",
    "ax = sns.pointplot(x=\"Batchsize\", y=\"Training\", data=accuracy)\n",
    " \n",
    "\n",
    "# second subplot with violinplot\n",
    "ax2= sns.pointplot(x=\"Batchsize\", y=\"Test\", data=accuracy, color= 'red')#\n",
    "#handling legends\n",
    "ax.set(xlabel='Batch Size', ylabel='Accuracy')\n",
    "\n",
    "fig.tight_layout()"
   ]
  },
  {
   "cell_type": "code",
   "execution_count": null,
   "metadata": {},
   "outputs": [],
   "source": []
  },
  {
   "cell_type": "code",
   "execution_count": null,
   "metadata": {},
   "outputs": [],
   "source": []
  }
 ],
 "metadata": {
  "kernelspec": {
   "display_name": "Python 3",
   "language": "python",
   "name": "python3"
  },
  "language_info": {
   "codemirror_mode": {
    "name": "ipython",
    "version": 3
   },
   "file_extension": ".py",
   "mimetype": "text/x-python",
   "name": "python",
   "nbconvert_exporter": "python",
   "pygments_lexer": "ipython3",
   "version": "3.7.3"
  }
 },
 "nbformat": 4,
 "nbformat_minor": 2
}
