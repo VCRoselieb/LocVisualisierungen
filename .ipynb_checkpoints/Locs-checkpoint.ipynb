{
 "cells": [
  {
   "cell_type": "markdown",
   "metadata": {},
   "source": [
    "Visualisation of loc data"
   ]
  },
  {
   "cell_type": "code",
   "execution_count": 1,
   "metadata": {},
   "outputs": [],
   "source": [
    "# import libraries\n",
    "import os\n",
    "import numpy as np\n",
    "import pandas as pd\n",
    "import matplotlib.pyplot as plt\n",
    "import seaborn as sns\n",
    "sns.set()\n"
   ]
  },
  {
   "cell_type": "code",
   "execution_count": 38,
   "metadata": {},
   "outputs": [
    {
     "name": "stdout",
     "output_type": "stream",
     "text": [
      "C:\\Users\\vivia\\Documents\\ANN\\LocVisualisierungen/logs/VGG11/Cifar10\n"
     ]
    },
    {
     "data": {
      "text/html": [
       "<div>\n",
       "<style scoped>\n",
       "    .dataframe tbody tr th:only-of-type {\n",
       "        vertical-align: middle;\n",
       "    }\n",
       "\n",
       "    .dataframe tbody tr th {\n",
       "        vertical-align: top;\n",
       "    }\n",
       "\n",
       "    .dataframe thead th {\n",
       "        text-align: right;\n",
       "    }\n",
       "</style>\n",
       "<table border=\"1\" class=\"dataframe\">\n",
       "  <thead>\n",
       "    <tr style=\"text-align: right;\">\n",
       "      <th></th>\n",
       "      <th>Batchsize</th>\n",
       "      <th>Training</th>\n",
       "      <th>Test</th>\n",
       "    </tr>\n",
       "  </thead>\n",
       "  <tbody>\n",
       "    <tr>\n",
       "      <th>0</th>\n",
       "      <td>2</td>\n",
       "      <td>2</td>\n",
       "      <td>2</td>\n",
       "    </tr>\n",
       "  </tbody>\n",
       "</table>\n",
       "</div>"
      ],
      "text/plain": [
       "  Batchsize Training Test\n",
       "0         2        2    2"
      ]
     },
     "execution_count": 38,
     "metadata": {},
     "output_type": "execute_result"
    }
   ],
   "source": [
    "#Import csv\n",
    "import glob\n",
    "import os\n",
    "PATH = os.getcwd()+ \"/logs/VGG11/Cifar10\"\n",
    "print (PATH)\n",
    "all_files = glob.glob(os.path.join(PATH, \"*.csv\"))    \n",
    "\n",
    "accuracy = pd.DataFrame(columns=['Batchsize', 'Training', 'Test'])\n",
    "accuracy.append[8,2,2]\n",
    "accuracy.head()\n",
    "\n",
    "# dflist = []\n",
    "# for f in all_files:\n",
    "#     dflist.append(pd.read_csv(f))\n",
    "# df_concatenated = pd.concat(dflist, ignore_index=True)\n",
    "# df_concatenated.head()\n",
    "\n",
    "listi= []\n",
    "columns = ['test_accuracy','training_accuracy']\n",
    "# listi = pd.read_csv(PATH + \"/VGG11_bs8_e20_id0.csv\", sep= ';',usecols=columns) #, \n",
    "# listi\n",
    "# listi2= []\n",
    "# columns = ['test_accuracy','training_accuracy']\n",
    "# listi2 = pd.read_csv(PATH + \"/VGG11_bs8_e20_idADAM.csv\", sep= ';',usecols=columns) #, \n",
    "# listi2\n",
    "\n",
    "# dflist = []\n",
    "\n",
    "# dflist.append(listi)\n",
    "# dflist.append(listi2)\n",
    "# df_concatenated = pd.concat(dflist, ignore_index=True)\n",
    "# df_concatenated\n",
    "\n",
    "\n",
    "all_bs8 = glob.glob(os.path.join(PATH + \"/bs8\", \"*.csv\")) \n",
    "print (PATH + \"/bs8\")\n",
    "bs8 = []\n",
    "for f in all_bs8:\n",
    "    bs8.append(pd.read_csv(f,sep= ';',usecols=columns))\n",
    "df_concatenated = pd.concat(bs8, ignore_index=True)\n",
    "\n",
    "df_concatenated['test_accuracy'].mean()\n",
    "\n"
   ]
  },
  {
   "cell_type": "code",
   "execution_count": null,
   "metadata": {},
   "outputs": [],
   "source": []
  },
  {
   "cell_type": "code",
   "execution_count": null,
   "metadata": {},
   "outputs": [],
   "source": []
  }
 ],
 "metadata": {
  "kernelspec": {
   "display_name": "Python 3",
   "language": "python",
   "name": "python3"
  },
  "language_info": {
   "codemirror_mode": {
    "name": "ipython",
    "version": 3
   },
   "file_extension": ".py",
   "mimetype": "text/x-python",
   "name": "python",
   "nbconvert_exporter": "python",
   "pygments_lexer": "ipython3",
   "version": "3.7.3"
  }
 },
 "nbformat": 4,
 "nbformat_minor": 2
}
